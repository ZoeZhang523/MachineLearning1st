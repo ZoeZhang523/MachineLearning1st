{
 "cells": [
  {
   "cell_type": "code",
   "execution_count": 2,
   "metadata": {},
   "outputs": [
    {
     "data": {
      "image/png": "[encoded data removed]",
      "text/plain": [
       "<matplotlib.figure.Figure at 0x2ad633d66d8>"
      ]
     },
     "metadata": {},
     "output_type": "display_data"
    }
   ],
   "source": [
    "from sklearn.model_selection import train_test_split \n",
    "from sklearn.datasets import load_svmlight_file\n",
    "from sklearn.externals.joblib import Memory\n",
    "from matplotlib import pyplot as plt\n",
    "import numpy as np\n",
    "\n",
    "#读取数据\n",
    "mem = Memory(\"./mycache\")\n",
    "@mem.cache\n",
    "def get_data():\n",
    "    data = load_svmlight_file(\"F:/大三上/机器学习/实验一/australian_scale.txt\")\n",
    "    return data[0], data[1]\n",
    "X,y= get_data()\n",
    "X = X.toarray()\n",
    "\n",
    "#在训练集前添加一列1\n",
    "X = np.c_[np.ones(len(X)), X]\n",
    "\n",
    "#切分数据集\n",
    "X_train, X_test, y_train, y_test = train_test_split(X, y, test_size=0.33, random_state=42)\n",
    "\n",
    "#初始化\n",
    "W = np.zeros(X_train.shape[1])\n",
    "\n",
    "#选择Loss函数及对其求导\n",
    "\n",
    "def hinge_loss(x):\n",
    "    return max(0,1 - x)\n",
    "def L(X,y,W,C):\n",
    "    return (W ** 2).sum() / 2 + C * sum(map(hinge_loss, y * (np.dot(X, W))))\n",
    "def Gra(X,y,W,C):\n",
    "    temp = np.zeros(len(W))\n",
    "    for i in range(X.shape[0]):\n",
    "        if y[i] * np.dot(X[i,:], W) < 1:\n",
    "            temp += -y[i] * X[i,:]\n",
    "    return W + C * temp\n",
    "\n",
    "L_train = []\n",
    "L_validation = []\n",
    "\n",
    "num=150   \n",
    "C=0.9    \n",
    "learning_rate = 0.0001 \n",
    "#求得所有样本对Loss函数的梯度的平均值\n",
    "for i in range(num):\n",
    "    G = Gra(X,y,W,C)\n",
    "    \n",
    "    #更新模型参数\n",
    "    W = W - learning_rate * G    \n",
    "    #在训练集上测试并得到Loss函数值\n",
    "    L_train.append(L(X_train,y_train,W,C))\n",
    "    L_validation.append(L(X_test,y_test,W,C))\n",
    "\n",
    "#画出随迭代次数的变化图\n",
    "plt.title('Loss Curve')\n",
    "plt.plot(range(num),L_train,label=\"Train Loss\")\n",
    "plt.plot(range(num),L_validation,label=\"Validation Loss\")\n",
    "plt.xlabel(\"Iteration\")\n",
    "plt.ylabel(\"Loss\")\n",
    "plt.legend()\n",
    "plt.show()"
   ]
  }
 ],
 "metadata": {
  "kernelspec": {
   "display_name": "Python 3",
   "language": "python",
   "name": "python3"
  },
  "language_info": {
   "codemirror_mode": {
    "name": "ipython",
    "version": 3
   },
   "file_extension": ".py",
   "mimetype": "text/x-python",
   "name": "python",
   "nbconvert_exporter": "python",
   "pygments_lexer": "ipython3",
   "version": "3.6.2"
  }
 },
 "nbformat": 4,
 "nbformat_minor": 2
}
